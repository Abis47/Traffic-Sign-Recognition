{
 "cells": [
  {
   "cell_type": "markdown",
   "id": "5baf5ba8",
   "metadata": {},
   "source": [
    "# Traffic Signs Recognition using CNN & Keras\n",
    "## What is Traffic Signs Recognition?\n",
    "- There are several different types of traffic signs like speed limits, no entry, traffic signals, turn left or right, children crossing, no passing of heavy vehicles, etc. Traffic signs classification is the process of identifying which class a traffic sign belongs to.\n",
    "\n",
    "- In this project, we will build a deep neural network model that can classify traffic signs present in the image into different categories. With this model, we are able to read and understand traffic signs which are a very important task for all autonomous vehicles.\n",
    "\n",
    "## Dataset Information:\n",
    "- The dataset contains more than 50,000 images of different traffic signs. It is further classified into 43 different classes. The dataset is quite varying, some of the classes have many images while some classes have few images. The size of the dataset is around 300 MB. The dataset has a train folder which contains images inside each class and a test folder which we will use for testing our model.\n",
    "- 43 Classes are as follows:\n",
    "    -       1: Speed limit (20km/h),\n",
    "    -       2: Speed limit (30km/h), \n",
    "    -       3: Speed limit (50km/h), \n",
    "    -       4: Speed limit (60km/h), \n",
    "    -       5: Speed limit (70km/h), \n",
    "    -       6: Speed limit (80km/h), \n",
    "    -       7: End of speed limit (80km/h), \n",
    "    -       8: Speed limit (100km/h), \n",
    "    -       9: Speed limit (120km/h), \n",
    "    -       10: No passing, \n",
    "    -       11: No passing veh over 3.5 tons, \n",
    "    -       12: Right-of-way at intersection, \n",
    "    -       13: Priority road, \n",
    "    -       14: Yield, \n",
    "    -       15: Stop, \n",
    "    -       16: No vehicles, \n",
    "    -       17: Veh > 3.5 tons prohibited, \n",
    "    -       18: No entry, \n",
    "    -       19: General caution, \n",
    "    -       20: Dangerous curve left, \n",
    "    -       21: Dangerous curve right, \n",
    "    -       22: Double curve, \n",
    "    -       23: Bumpy road, \n",
    "    -       24: Slippery road, \n",
    "    -       25: Road narrows on the right, \n",
    "    -       26: Road work, \n",
    "    -       27: Traffic signals, \n",
    "    -       28: Pedestrians, \n",
    "    -       29: Children crossing, \n",
    "    -       30: Bicycles crossing, \n",
    "    -       31: Beware of ice/snow,\n",
    "    -       32: Wild animals crossing, \n",
    "    -       33: End speed + passing limits, \n",
    "    -       34: Turn right ahead, \n",
    "    -       35: Turn left ahead, \n",
    "    -       36: Ahead only, \n",
    "    -       37: Go straight or right, \n",
    "    -       38: Go straight or left, \n",
    "    -       39: Keep right, \n",
    "    -       40: Keep left, \n",
    "    -       41: Roundabout mandatory, \n",
    "    -       42: End of no passing, \n",
    "    -       43: End no passing veh > 3.5 tons"
   ]
  },
  {
   "cell_type": "code",
   "execution_count": 4,
   "id": "73133c60",
   "metadata": {},
   "outputs": [],
   "source": [
    "import numpy as np \n",
    "import pandas as pd \n",
    "import matplotlib.pyplot as plt\n",
    "import cv2\n",
    "import tensorflow as tf\n",
    "from PIL import Image\n",
    "import os\n",
    "from sklearn.model_selection import train_test_split\n",
    "from tensorflow.keras.utils import to_categorical\n",
    "from keras.models import Sequential, load_model\n",
    "from keras.layers import Conv2D, MaxPool2D, Dense, Flatten, Dropout"
   ]
  },
  {
   "cell_type": "markdown",
   "id": "3ddf5c08",
   "metadata": {},
   "source": [
    "# Exploring the data"
   ]
  },
  {
   "cell_type": "code",
   "execution_count": 5,
   "id": "e4d27cb0",
   "metadata": {},
   "outputs": [],
   "source": [
    "data = []\n",
    "labels = []\n",
    "classes = 43\n",
    "cur_path = os.getcwd()\n",
    "\n",
    "# Retrieving the images and their labels \n",
    "for i in range(classes):\n",
    "    path = os.path.join(cur_path,'train',str(i))\n",
    "    images = os.listdir(path)\n",
    "    for a in images:\n",
    "        try:\n",
    "            image = Image.open(path + '\\\\'+ a)\n",
    "            image = image.resize((30,30))\n",
    "            image = np.array(image)\n",
    "            data.append(image)\n",
    "            labels.append(i)\n",
    "        except:\n",
    "            print(\"Error loading image\")\n",
    "            \n",
    "# Converting lists into numpy arrays\n",
    "data = np.array(data)\n",
    "labels = np.array(labels)"
   ]
  },
  {
   "cell_type": "markdown",
   "id": "cd8694b7",
   "metadata": {},
   "source": [
    "- Our ‘train’ folder contains 43 folders each representing a different class. The range of the folder is from 0 to 42. With the help of the OS module, we iterate over all the classes and append images and their respective labels in the data and labels list.\n",
    "- The PIL library is used to open image content into an array.\n",
    "- Then we have finally stored all the images and their labels into lists (data and labels). We need to convert the list into numpy arrays for feeding to the model."
   ]
  },
  {
   "cell_type": "code",
   "execution_count": 6,
   "id": "0601f688",
   "metadata": {},
   "outputs": [
    {
     "name": "stdout",
     "output_type": "stream",
     "text": [
      "Shape of the data:  (39209, 30, 30, 3) Shape of the Labels:  (39209,)\n"
     ]
    }
   ],
   "source": [
    "print(\"Shape of the data: \", data.shape, \"Shape of the Labels: \", labels.shape)"
   ]
  },
  {
   "cell_type": "markdown",
   "id": "9102e215",
   "metadata": {},
   "source": [
    "# Splitting of the data"
   ]
  },
  {
   "cell_type": "code",
   "execution_count": 16,
   "id": "87946567",
   "metadata": {},
   "outputs": [
    {
     "name": "stdout",
     "output_type": "stream",
     "text": [
      " X_train shape:  (31367, 30, 30, 3) \n",
      " X_test shape:  (7842, 30, 30, 3) \n",
      " y_train shape:  (31367,) \n",
      " y_test shape:  (7842,)\n"
     ]
    }
   ],
   "source": [
    "# Splitting the training and testing dataset\n",
    "X_train, X_test, y_train, y_test = train_test_split(data, labels, test_size=0.2, random_state=27)\n",
    "print(\" X_train shape: \", X_train.shape, \"\\n\", \"X_test shape: \", X_test.shape,\"\\n\", \"y_train shape: \", y_train.shape, \"\\n\", \"y_test shape: \", y_test.shape)"
   ]
  },
  {
   "cell_type": "code",
   "execution_count": 18,
   "id": "90e85f6d",
   "metadata": {},
   "outputs": [
    {
     "data": {
      "text/plain": [
       "36"
      ]
     },
     "execution_count": 18,
     "metadata": {},
     "output_type": "execute_result"
    }
   ],
   "source": [
    "y_train[0]"
   ]
  },
  {
   "cell_type": "code",
   "execution_count": 19,
   "id": "1038ba41",
   "metadata": {},
   "outputs": [
    {
     "data": {
      "text/plain": [
       "27"
      ]
     },
     "execution_count": 19,
     "metadata": {},
     "output_type": "execute_result"
    }
   ],
   "source": [
    "y_test[0]"
   ]
  },
  {
   "attachments": {
    "image.png": {
     "image/png": "[encoded data removed]"
    }
   },
   "cell_type": "markdown",
   "id": "67e67f5b",
   "metadata": {},
   "source": [
    "# One Hot Encoding\n",
    "- After this encoding, every label will be converted to a list with 10 elements and the element at index to the corresponding class will be set to 1, rest will be set to 0\n",
    "![image.png](attachment:image.png)"
   ]
  },
  {
   "cell_type": "code",
   "execution_count": 20,
   "id": "c6cbf293",
   "metadata": {},
   "outputs": [],
   "source": [
    "# Converting the labels into one hot encoding\n",
    "y_train = to_categorical(y_train, 43)\n",
    "y_test = to_categorical(y_test, 43)"
   ]
  },
  {
   "cell_type": "code",
   "execution_count": 21,
   "id": "216b3b8d",
   "metadata": {},
   "outputs": [
    {
     "data": {
      "text/plain": [
       "array([0., 0., 0., 0., 0., 0., 0., 0., 0., 0., 0., 0., 0., 0., 0., 0., 0.,\n",
       "       0., 0., 0., 0., 0., 0., 0., 0., 0., 0., 0., 0., 0., 0., 0., 0., 0.,\n",
       "       0., 0., 1., 0., 0., 0., 0., 0., 0.], dtype=float32)"
      ]
     },
     "execution_count": 21,
     "metadata": {},
     "output_type": "execute_result"
    }
   ],
   "source": [
    "y_train[0]"
   ]
  },
  {
   "cell_type": "code",
   "execution_count": 22,
   "id": "3837efcc",
   "metadata": {},
   "outputs": [
    {
     "data": {
      "text/plain": [
       "array([0., 0., 0., 0., 0., 0., 0., 0., 0., 0., 0., 0., 0., 0., 0., 0., 0.,\n",
       "       0., 0., 0., 0., 0., 0., 0., 0., 0., 0., 1., 0., 0., 0., 0., 0., 0.,\n",
       "       0., 0., 0., 0., 0., 0., 0., 0., 0.], dtype=float32)"
      ]
     },
     "execution_count": 22,
     "metadata": {},
     "output_type": "execute_result"
    }
   ],
   "source": [
    "y_test[0]"
   ]
  },
  {
   "cell_type": "markdown",
   "id": "fdcbbe18",
   "metadata": {},
   "source": [
    "- The shape of data is (39209, 30, 30, 3) which means that there are 39,209 images of size 30×30 pixels and the last 3 means the data contains colored images (RGB value).\n",
    "- With the sklearn package, we use the train_test_split() method to split training and testing data.\n",
    "- From the tensorflow.keras.utils package, we use to_categorical method to convert the labels present in y_train and y_test into one-hot encoding."
   ]
  },
  {
   "cell_type": "markdown",
   "id": "342198f2",
   "metadata": {},
   "source": [
    "# Building a CNN Model"
   ]
  },
  {
   "cell_type": "markdown",
   "id": "cab2a900",
   "metadata": {},
   "source": [
    "- To classify the images into their respective categories, we will build a CNN model (Convolutional Neural Network). CNN is best for image classification purposes.\n",
    "- We compile the model with Adam optimizer which performs well and loss is “categorical_crossentropy” because we have multiple classes to categorise."
   ]
  },
  {
   "cell_type": "code",
   "execution_count": 23,
   "id": "b75c2198",
   "metadata": {},
   "outputs": [],
   "source": [
    "model = Sequential()\n",
    "\n",
    "model.add(Conv2D(filters=32, kernel_size=(5,5), activation='relu', input_shape=X_train.shape[1:]))\n",
    "model.add(Conv2D(filters=32, kernel_size=(5,5), activation='relu'))\n",
    "model.add(MaxPool2D(pool_size=(2, 2)))\n",
    "model.add(Dropout(rate=0.25))\n",
    "model.add(Conv2D(filters=64, kernel_size=(3, 3), activation='relu'))\n",
    "model.add(Conv2D(filters=64, kernel_size=(3, 3), activation='relu'))\n",
    "model.add(MaxPool2D(pool_size=(2, 2)))\n",
    "model.add(Dropout(rate=0.25))\n",
    "\n",
    "# Flattening\n",
    "model.add(Flatten())\n",
    "\n",
    "# Input layer\n",
    "model.add(Dense(256, activation='relu'))\n",
    "model.add(Dropout(rate=0.5))\n",
    "\n",
    "# Output layer\n",
    "model.add(Dense(43, activation='softmax'))\n",
    "\n",
    "#Compilation of the model\n",
    "model.compile(loss='categorical_crossentropy', optimizer='adam', metrics=['accuracy'])"
   ]
  },
  {
   "cell_type": "markdown",
   "id": "fe2c9c6e",
   "metadata": {},
   "source": [
    "## Train and Validate the Model\n",
    "- After building the model architecture, we then train the model using model.fit(). I tried with batch size 32 and 64. Our model performed better with 64 batch size. And after 15 epochs the accuracy was stable."
   ]
  },
  {
   "cell_type": "code",
   "execution_count": 24,
   "id": "f0743e44",
   "metadata": {},
   "outputs": [
    {
     "name": "stdout",
     "output_type": "stream",
     "text": [
      "Epoch 1/15\n",
      "491/491 [==============================] - 52s 105ms/step - loss: 2.1971 - accuracy: 0.5058 - val_loss: 0.3531 - val_accuracy: 0.9033\n",
      "Epoch 2/15\n",
      "491/491 [==============================] - 50s 103ms/step - loss: 0.4607 - accuracy: 0.8731 - val_loss: 0.0989 - val_accuracy: 0.9814\n",
      "Epoch 3/15\n",
      "491/491 [==============================] - 50s 102ms/step - loss: 0.2878 - accuracy: 0.9220 - val_loss: 0.0930 - val_accuracy: 0.9792\n",
      "Epoch 4/15\n",
      "491/491 [==============================] - 49s 100ms/step - loss: 0.2091 - accuracy: 0.9441 - val_loss: 0.0621 - val_accuracy: 0.9870\n",
      "Epoch 5/15\n",
      "491/491 [==============================] - 49s 101ms/step - loss: 0.1817 - accuracy: 0.9513 - val_loss: 0.0467 - val_accuracy: 0.9892\n",
      "Epoch 6/15\n",
      "491/491 [==============================] - 50s 102ms/step - loss: 0.1593 - accuracy: 0.9588 - val_loss: 0.0462 - val_accuracy: 0.9865\n",
      "Epoch 7/15\n",
      "491/491 [==============================] - 50s 101ms/step - loss: 0.1645 - accuracy: 0.9573 - val_loss: 0.0532 - val_accuracy: 0.9860\n",
      "Epoch 8/15\n",
      "491/491 [==============================] - 50s 101ms/step - loss: 0.1401 - accuracy: 0.9645 - val_loss: 0.0420 - val_accuracy: 0.9904\n",
      "Epoch 9/15\n",
      "491/491 [==============================] - 50s 103ms/step - loss: 0.1458 - accuracy: 0.9625 - val_loss: 0.0494 - val_accuracy: 0.9888\n",
      "Epoch 10/15\n",
      "491/491 [==============================] - 49s 101ms/step - loss: 0.1268 - accuracy: 0.9676 - val_loss: 0.0408 - val_accuracy: 0.9897\n",
      "Epoch 11/15\n",
      "491/491 [==============================] - 51s 104ms/step - loss: 0.1259 - accuracy: 0.9686 - val_loss: 0.0390 - val_accuracy: 0.9917\n",
      "Epoch 12/15\n",
      "491/491 [==============================] - 50s 101ms/step - loss: 0.1519 - accuracy: 0.9644 - val_loss: 0.0334 - val_accuracy: 0.9917\n",
      "Epoch 13/15\n",
      "491/491 [==============================] - 50s 102ms/step - loss: 0.1274 - accuracy: 0.9681 - val_loss: 0.0368 - val_accuracy: 0.9909\n",
      "Epoch 14/15\n",
      "491/491 [==============================] - 52s 107ms/step - loss: 0.1098 - accuracy: 0.9734 - val_loss: 0.0336 - val_accuracy: 0.9932\n",
      "Epoch 15/15\n",
      "491/491 [==============================] - 52s 106ms/step - loss: 0.1142 - accuracy: 0.9725 - val_loss: 0.0477 - val_accuracy: 0.9879\n"
     ]
    }
   ],
   "source": [
    "epochs = 15\n",
    "history = model.fit(X_train, y_train, batch_size=64, epochs=epochs, validation_data=(X_test, y_test))\n",
    "model.save(\"my_model.h5\")"
   ]
  },
  {
   "cell_type": "markdown",
   "id": "aebafb05",
   "metadata": {},
   "source": [
    "- Our model got a 97% accuracy on the training dataset. \n",
    "- With matplotlib, we plot the graph for accuracy and the loss."
   ]
  },
  {
   "cell_type": "code",
   "execution_count": 25,
   "id": "ec834368",
   "metadata": {},
   "outputs": [
    {
     "data": {
      "image/png": "[encoded data removed]",
      "text/plain": [
       "<Figure size 432x288 with 1 Axes>"
      ]
     },
     "metadata": {
      "needs_background": "light"
     },
     "output_type": "display_data"
    },
    {
     "data": {
      "image/png": "[encoded data removed]",
      "text/plain": [
       "<Figure size 432x288 with 1 Axes>"
      ]
     },
     "metadata": {
      "needs_background": "light"
     },
     "output_type": "display_data"
    }
   ],
   "source": [
    "# Plotting graphs for accuracy \n",
    "plt.figure(0)\n",
    "plt.plot(history.history['accuracy'], label='training accuracy')\n",
    "plt.plot(history.history['val_accuracy'], label='val accuracy')\n",
    "plt.title('Accuracy')\n",
    "plt.xlabel('epochs')\n",
    "plt.ylabel('accuracy')\n",
    "plt.legend()\n",
    "plt.show()\n",
    "\n",
    "plt.figure(1)\n",
    "plt.plot(history.history['loss'], label='training loss')\n",
    "plt.plot(history.history['val_loss'], label='val loss')\n",
    "plt.title('Loss')\n",
    "plt.xlabel('epochs')\n",
    "plt.ylabel('loss')\n",
    "plt.legend()\n",
    "plt.show()"
   ]
  },
  {
   "cell_type": "markdown",
   "id": "38ab6fc4",
   "metadata": {},
   "source": [
    "## Test our model with test dataset"
   ]
  },
  {
   "cell_type": "code",
   "execution_count": 27,
   "id": "7d6b9c6a",
   "metadata": {},
   "outputs": [],
   "source": [
    "# Testing accuracy on test dataset\n",
    "y_test = pd.read_csv('Test.csv')\n",
    "labels = y_test[\"ClassId\"].values\n",
    "imgs = y_test[\"Path\"].values\n",
    "\n",
    "data=[]\n",
    "\n",
    "for img in imgs:\n",
    "    image = Image.open(img)\n",
    "    image = image.resize((30,30))\n",
    "    data.append(np.array(image))\n",
    "    \n",
    "X_test=np.array(data)\n",
    "\n",
    "#pred = model.predict_classes(X_test)\n",
    "y_predict = np.argmax(model.predict(X_test), axis=-1)"
   ]
  },
  {
   "cell_type": "code",
   "execution_count": 28,
   "id": "aa445326",
   "metadata": {},
   "outputs": [
    {
     "data": {
      "text/plain": [
       "16"
      ]
     },
     "execution_count": 28,
     "metadata": {},
     "output_type": "execute_result"
    }
   ],
   "source": [
    "y_predict[0]"
   ]
  },
  {
   "cell_type": "markdown",
   "id": "cdeb0564",
   "metadata": {},
   "source": [
    "- Our dataset contains a test folder and in a test.csv file, we have the details related to the image path and their respective class labels. \n",
    "- We extract the image path and labels using pandas. \n",
    "- Then to predict the model, we have to resize our images to 30×30 pixels and make a numpy array containing all image data. "
   ]
  },
  {
   "cell_type": "code",
   "execution_count": 29,
   "id": "2b5cc36b",
   "metadata": {},
   "outputs": [
    {
     "name": "stdout",
     "output_type": "stream",
     "text": [
      "0.9646080760095012\n"
     ]
    }
   ],
   "source": [
    "# Accuracy with the test data\n",
    "from sklearn.metrics import accuracy_score\n",
    "print(accuracy_score(labels, y_predict))"
   ]
  },
  {
   "cell_type": "markdown",
   "id": "a08e997a",
   "metadata": {},
   "source": [
    "- From the sklearn.metrics, we imported the accuracy_score and observed how our model predicted the actual labels. \n",
    "- We achieved a 96% accuracy in this model."
   ]
  },
  {
   "cell_type": "markdown",
   "id": "f99fa630",
   "metadata": {},
   "source": [
    "## Saving the Model"
   ]
  },
  {
   "cell_type": "markdown",
   "id": "8558c446",
   "metadata": {},
   "source": [
    "- In the end, we are going to save the model that we have trained using the Keras, model.save() function."
   ]
  },
  {
   "cell_type": "code",
   "execution_count": 31,
   "id": "b76dc412",
   "metadata": {},
   "outputs": [],
   "source": [
    "model.save(\"traffic_classifier.h5\")"
   ]
  },
  {
   "cell_type": "markdown",
   "id": "1c5d5e2d",
   "metadata": {},
   "source": [
    "# Testing on other single image"
   ]
  },
  {
   "cell_type": "code",
   "execution_count": 106,
   "id": "81734be4",
   "metadata": {
    "scrolled": true
   },
   "outputs": [
    {
     "data": {
      "text/plain": [
       "'Speed limit (80km/h)'"
      ]
     },
     "execution_count": 106,
     "metadata": {},
     "output_type": "execute_result"
    }
   ],
   "source": [
    "model = load_model('traffic_classifier.h5')\n",
    "\n",
    "classes = { 1:'Speed limit (20km/h)',\n",
    "            2:'Speed limit (30km/h)', \n",
    "            3:'Speed limit (50km/h)', \n",
    "            4:'Speed limit (60km/h)', \n",
    "            5:'Speed limit (70km/h)', \n",
    "            6:'Speed limit (80km/h)', \n",
    "            7:'End of speed limit (80km/h)', \n",
    "            8:'Speed limit (100km/h)', \n",
    "            9:'Speed limit (120km/h)', \n",
    "            10:'No passing', \n",
    "            11:'No passing veh over 3.5 tons', \n",
    "            12:'Right-of-way at intersection', \n",
    "            13:'Priority road', \n",
    "            14:'Yield', \n",
    "            15:'Stop', \n",
    "            16:'No vehicles', \n",
    "            17:'Veh > 3.5 tons prohibited', \n",
    "            18:'No entry', \n",
    "            19:'General caution', \n",
    "            20:'Dangerous curve left', \n",
    "            21:'Dangerous curve right', \n",
    "            22:'Double curve', \n",
    "            23:'Bumpy road', \n",
    "            24:'Slippery road', \n",
    "            25:'Road narrows on the right', \n",
    "            26:'Road work', \n",
    "            27:'Traffic signals', \n",
    "            28:'Pedestrians', \n",
    "            29:'Children crossing', \n",
    "            30:'Bicycles crossing', \n",
    "            31:'Beware of ice/snow',\n",
    "            32:'Wild animals crossing', \n",
    "            33:'End speed + passing limits', \n",
    "            34:'Turn right ahead', \n",
    "            35:'Turn left ahead', \n",
    "            36:'Ahead only', \n",
    "            37:'Go straight or right', \n",
    "            38:'Go straight or left', \n",
    "            39:'Keep right', \n",
    "            40:'Keep left', \n",
    "            41:'Roundabout mandatory', \n",
    "            42:'End of no passing', \n",
    "            43:'End no passing veh > 3.5 tons' }\n",
    "\n",
    "image = Image.open('E:/analytics/projects/Traffic/Test/00068.png')\n",
    "image = image.resize((30,30))\n",
    "image = np.expand_dims(image, axis=0)\n",
    "image = np.array(image)\n",
    "\n",
    "pred = np.argmax(model.predict([image]), axis=-1)[0]\n",
    "classes[pred+1]"
   ]
  },
  {
   "cell_type": "markdown",
   "id": "a9b7e651",
   "metadata": {},
   "source": [
    "# Traffic Signs Recognizer GUI "
   ]
  },
  {
   "cell_type": "markdown",
   "id": "b9390487",
   "metadata": {},
   "source": [
    "- Now we are going to build a graphical user interface for our traffic signs classifier with Tkinter. \n",
    "- Tkinter is a GUI toolkit in the standard python library.\n",
    "- We will first load the trained model ‘traffic_classifier.h5’ using Keras. And then we build the GUI for uploading the image and a button is used to classify which calls the classify() function. \n",
    "- The classify() function is converting the image into the dimension of shape (1, 30, 30, 3). This is because to predict the traffic sign we have to provide the same dimension we have used when building the model. \n",
    "- Then we predict the class, the model.predict_classes(image) returns us a number between (0-42) which represents the class it belongs to. We use the dictionary to get the information about the class."
   ]
  },
  {
   "cell_type": "code",
   "execution_count": 142,
   "id": "562f1a69",
   "metadata": {},
   "outputs": [
    {
     "name": "stdout",
     "output_type": "stream",
     "text": [
      "Dangerous curve right\n"
     ]
    }
   ],
   "source": [
    "import tkinter as tk\n",
    "from tkinter import filedialog\n",
    "from tkinter import *\n",
    "from PIL import ImageTk, Image\n",
    "\n",
    "import numpy\n",
    "\n",
    "# Load the trained model to classify sign\n",
    "from keras.models import load_model\n",
    "model = load_model('traffic_classifier.h5')\n",
    "\n",
    "# Dictionary to label all traffic signs class.\n",
    "classes = { 1:'Speed limit (20km/h)',\n",
    "            2:'Speed limit (30km/h)', \n",
    "            3:'Speed limit (50km/h)', \n",
    "            4:'Speed limit (60km/h)', \n",
    "            5:'Speed limit (70km/h)', \n",
    "            6:'Speed limit (80km/h)', \n",
    "            7:'End of speed limit (80km/h)', \n",
    "            8:'Speed limit (100km/h)', \n",
    "            9:'Speed limit (120km/h)', \n",
    "            10:'No passing', \n",
    "            11:'No passing veh over 3.5 tons', \n",
    "            12:'Right-of-way at intersection', \n",
    "            13:'Priority road', \n",
    "            14:'Yield', \n",
    "            15:'Stop', \n",
    "            16:'No vehicles', \n",
    "            17:'Veh > 3.5 tons prohibited', \n",
    "            18:'No entry', \n",
    "            19:'General caution', \n",
    "            20:'Dangerous curve left', \n",
    "            21:'Dangerous curve right', \n",
    "            22:'Double curve', \n",
    "            23:'Bumpy road', \n",
    "            24:'Slippery road', \n",
    "            25:'Road narrows on the right', \n",
    "            26:'Road work', \n",
    "            27:'Traffic signals', \n",
    "            28:'Pedestrians', \n",
    "            29:'Children crossing', \n",
    "            30:'Bicycles crossing', \n",
    "            31:'Beware of ice/snow',\n",
    "            32:'Wild animals crossing', \n",
    "            33:'End speed + passing limits', \n",
    "            34:'Turn right ahead', \n",
    "            35:'Turn left ahead', \n",
    "            36:'Ahead only', \n",
    "            37:'Go straight or right', \n",
    "            38:'Go straight or left', \n",
    "            39:'Keep right', \n",
    "            40:'Keep left', \n",
    "            41:'Roundabout mandatory', \n",
    "            42:'End of no passing', \n",
    "            43:'End no passing veh > 3.5 tons' }\n",
    "\n",
    "# Initialise GUI\n",
    "top=tk.Tk()\n",
    "top.geometry('1000x600')\n",
    "top.title('Traffic Sign Recognizer')\n",
    "top.configure(background='#CDCDCD')\n",
    "\n",
    "label=Label(top,background='#CDCDCD', font=('arial',25,'bold'))\n",
    "sign_image = Label(top)\n",
    "\n",
    "def classify(file_path):\n",
    "    global label_packed\n",
    "    image = Image.open(file_path)\n",
    "    image = image.resize((30,30))\n",
    "    image = numpy.expand_dims(image, axis=0)\n",
    "    image = numpy.array(image)\n",
    "    pred = numpy.argmax(model.predict([image]), axis=-1)[0]\n",
    "    sign = classes[pred+1]\n",
    "    print(sign)\n",
    "    label.configure(foreground='#011638', text=sign) \n",
    "\n",
    "def show_classify_button(file_path):\n",
    "    classify_b=Button(top,text=\"Classify Image\",command=lambda: classify(file_path),padx=10,pady=5)\n",
    "    classify_b.configure(background='#364156', foreground='white',font=('arial',15,'bold'))\n",
    "    classify_b.place(relx=0.79,rely=0.46)\n",
    "\n",
    "def upload_image():\n",
    "    try:\n",
    "        file_path=filedialog.askopenfilename()\n",
    "        uploaded=Image.open(file_path)\n",
    "        uploaded.thumbnail(((top.winfo_width()/2.25),(top.winfo_height()/2.25)))\n",
    "        im=ImageTk.PhotoImage(uploaded)\n",
    "\n",
    "        sign_image.configure(image=im)\n",
    "        sign_image.image=im\n",
    "        label.configure(text='')\n",
    "        show_classify_button(file_path)\n",
    "    except:\n",
    "        pass\n",
    "\n",
    "upload=Button(top,text=\"Upload an image\",command=upload_image,padx=10,pady=5)\n",
    "upload.configure(background='#364156', foreground='white',font=('arial',20,'bold'))\n",
    "\n",
    "upload.pack(side=BOTTOM,pady=100)\n",
    "sign_image.pack(side=BOTTOM,expand=True)\n",
    "label.pack(side=BOTTOM,expand=True)\n",
    "heading = Label(top, text=\"Traffic Sign Recognizer\",pady=20, font=('arial',40,'bold'))\n",
    "heading.configure(background='#CDCDCD',foreground='#364156')\n",
    "heading.pack()\n",
    "top.mainloop()"
   ]
  },
  {
   "cell_type": "markdown",
   "id": "f4ca17db",
   "metadata": {},
   "source": [
    "# Traffic Sign Recognition through WebCam"
   ]
  },
  {
   "cell_type": "code",
   "execution_count": 144,
   "id": "e06a0694",
   "metadata": {},
   "outputs": [],
   "source": [
    "import numpy as np\n",
    "\n",
    "classes = { 1:'Speed limit (20km/h)',\n",
    "            2:'Speed limit (30km/h)', \n",
    "            3:'Speed limit (50km/h)', \n",
    "            4:'Speed limit (60km/h)', \n",
    "            5:'Speed limit (70km/h)', \n",
    "            6:'Speed limit (80km/h)', \n",
    "            7:'End of speed limit (80km/h)', \n",
    "            8:'Speed limit (100km/h)', \n",
    "            9:'Speed limit (120km/h)', \n",
    "            10:'No passing', \n",
    "            11:'No passing veh over 3.5 tons', \n",
    "            12:'Right-of-way at intersection', \n",
    "            13:'Priority road', \n",
    "            14:'Yield', \n",
    "            15:'Stop', \n",
    "            16:'No vehicles', \n",
    "            17:'Veh > 3.5 tons prohibited', \n",
    "            18:'No entry', \n",
    "            19:'General caution', \n",
    "            20:'Dangerous curve left', \n",
    "            21:'Dangerous curve right', \n",
    "            22:'Double curve', \n",
    "            23:'Bumpy road', \n",
    "            24:'Slippery road', \n",
    "            25:'Road narrows on the right', \n",
    "            26:'Road work', \n",
    "            27:'Traffic signals', \n",
    "            28:'Pedestrians', \n",
    "            29:'Children crossing', \n",
    "            30:'Bicycles crossing', \n",
    "            31:'Beware of ice/snow',\n",
    "            32:'Wild animals crossing', \n",
    "            33:'End speed + passing limits', \n",
    "            34:'Turn right ahead', \n",
    "            35:'Turn left ahead', \n",
    "            36:'Ahead only', \n",
    "            37:'Go straight or right', \n",
    "            38:'Go straight or left', \n",
    "            39:'Keep right', \n",
    "            40:'Keep left', \n",
    "            41:'Roundabout mandatory', \n",
    "            42:'End of no passing', \n",
    "            43:'End no passing veh > 3.5 tons' }\n",
    "\n",
    "import cv2\n",
    "font = cv2.FONT_HERSHEY_SIMPLEX\n",
    "\n",
    "from keras.models import load_model\n",
    "model = load_model('traffic_classifier.h5')\n",
    "\n",
    "cap=cv2.VideoCapture(0)\n",
    "while cap.isOpened():\n",
    "        _,imgOrg = cap.read()\n",
    "        \n",
    "        # Process image\n",
    "        img = imgOrg\n",
    "        img = cv2.resize(img,(30,30))\n",
    "        img = np.expand_dims(img, axis=0)\n",
    "        img = np.array(img)\n",
    "        \n",
    "        cv2.putText(imgOrg, \"CLASS: \", (20,35), font, 0.75, (0,0,255), 2, cv2.LINE_AA)\n",
    "        \n",
    "        # Prediction\n",
    "        pred = np.argmax(model.predict([img]), axis=-1)[0]\n",
    "        \n",
    "        cv2.putText(imgOrg, str(pred+1)+\" \"+classes[pred+1], (120,35), font, 0.75, (0,0,255), 2, cv2.LINE_AA)\n",
    "        cv2.imshow(\"Result\", imgOrg)\n",
    "        \n",
    "        if cv2.waitKey(1) == ord('q'):\n",
    "            break\n",
    "\n",
    "cap.release()\n",
    "cv2.destroyAllWindows()"
   ]
  },
  {
   "cell_type": "markdown",
   "id": "6f0091b4",
   "metadata": {},
   "source": [
    "# THANK YOU"
   ]
  }
 ],
 "metadata": {
  "kernelspec": {
   "display_name": "Python 3 (ipykernel)",
   "language": "python",
   "name": "python3"
  },
  "language_info": {
   "codemirror_mode": {
    "name": "ipython",
    "version": 3
   },
   "file_extension": ".py",
   "mimetype": "text/x-python",
   "name": "python",
   "nbconvert_exporter": "python",
   "pygments_lexer": "ipython3",
   "version": "3.8.11"
  }
 },
 "nbformat": 4,
 "nbformat_minor": 5
}
